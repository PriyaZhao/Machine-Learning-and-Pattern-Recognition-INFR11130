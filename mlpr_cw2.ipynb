{
 "cells": [
  {
   "cell_type": "markdown",
   "id": "bfa6f994",
   "metadata": {},
   "source": [
    "### Question1\n",
    "- Linear regression"
   ]
  },
  {
   "cell_type": "code",
   "execution_count": 380,
   "id": "cfcaa76d",
   "metadata": {},
   "outputs": [],
   "source": [
    "import numpy as np\n",
    "from ct_support_code import *\n",
    "data = np.load('ct_data.npz')\n",
    "X_train = data['X_train']; X_val = data['X_val']; X_test = data['X_test']\n",
    "y_train = data['y_train']; y_val = data['y_val']; y_test = data['y_test']"
   ]
  },
  {
   "cell_type": "code",
   "execution_count": 350,
   "id": "b40dd691",
   "metadata": {},
   "outputs": [
    {
     "data": {
      "text/plain": [
       "-9.13868774539957e-15"
      ]
     },
     "execution_count": 350,
     "metadata": {},
     "output_type": "execute_result"
    }
   ],
   "source": [
    "y_train.mean()"
   ]
  },
  {
   "cell_type": "code",
   "execution_count": 351,
   "id": "dba3c8e8",
   "metadata": {},
   "outputs": [
    {
     "data": {
      "text/plain": [
       "(-0.2160085093241599, 0.01290449880016868)"
      ]
     },
     "execution_count": 351,
     "metadata": {},
     "output_type": "execute_result"
    }
   ],
   "source": [
    "y_val_mean=y_val.mean()\n",
    "std_error=np.std(y_val,ddof=1) / np.sqrt(np.size(y_val))\n",
    "y_val_mean,std_error"
   ]
  },
  {
   "cell_type": "code",
   "execution_count": 352,
   "id": "c680b748",
   "metadata": {},
   "outputs": [
    {
     "data": {
      "text/plain": [
       "0.011927303389170828"
      ]
     },
     "execution_count": 352,
     "metadata": {},
     "output_type": "execute_result"
    }
   ],
   "source": [
    "y_train_5785=y_train[:5785]\n",
    "std_error_ytrain=np.std(y_train_5785,ddof=1) / np.sqrt(np.size(y_train_5785))\n",
    "std_error_ytrain"
   ]
  },
  {
   "cell_type": "code",
   "execution_count": 381,
   "id": "b4ee38a2",
   "metadata": {},
   "outputs": [
    {
     "data": {
      "text/plain": [
       "([59, 69, 179, 189, 351], {76, 77, 185, 195, 283, 354})"
      ]
     },
     "execution_count": 381,
     "metadata": {},
     "output_type": "execute_result"
    }
   ],
   "source": [
    "xtrain_ind=[]\n",
    "for i in range(X_train.shape[1]):\n",
    "    n=0\n",
    "    for j in range(X_train.shape[0]):\n",
    "        if X_train[j,i]==X_train[0,i]:\n",
    "            n+=1\n",
    "    if n==X_train.shape[0]:\n",
    "        xtrain_ind+=[i]\n",
    "\n",
    "X_train1=np.delete(X_train,xtrain_ind,axis=1)\n",
    "X_val1=np.delete(X_val,xtrain_ind,axis=1)\n",
    "X_test1=np.delete(X_test,xtrain_ind,axis=1)\n",
    "\n",
    "# find identical columns\n",
    "_,indices= np.unique(X_train1,axis=1,return_index=True)\n",
    "X_train=X_train1[:,np.sort(indices)]\n",
    "X_val=X_val1[:,np.sort(indices)]\n",
    "X_test=X_test1[:,np.sort(indices)]\n",
    "\n",
    "\n",
    "xtrain_ind,set(list(range(X_train1.shape[1])))-set(list(indices))"
   ]
  },
  {
   "cell_type": "markdown",
   "id": "d238690e",
   "metadata": {},
   "source": [
    "### Question2\n",
    "- Data preprocess"
   ]
  },
  {
   "cell_type": "code",
   "execution_count": 8,
   "id": "12df46a2",
   "metadata": {},
   "outputs": [],
   "source": [
    "def fit_linreg(X, yy, alpha):\n",
    "    N=X.shape[0]\n",
    "    K=X.shape[1]\n",
    "    XX=np.hstack(( np.vstack((X,np.sqrt(alpha)*np.identity(K))),np.vstack((np.ones(N)[:,None],np.zeros(K)[:,None]))))   \n",
    "    y=np.vstack((yy[:,None],np.zeros(K)[:,None]))\n",
    "    return np.linalg.lstsq(XX,y,rcond=None)[0]"
   ]
  },
  {
   "cell_type": "code",
   "execution_count": 9,
   "id": "982e0a3b",
   "metadata": {},
   "outputs": [],
   "source": [
    "w_linreg=fit_linreg(X_train, y_train, alpha=30)\n",
    "w_gradopt,b_gradopt=fit_linreg_gradopt(X_train, y_train, alpha=30)\n",
    "\n",
    "pred_train_lst=np.hstack((X_train,np.ones(X_train.shape[0])[:,None]))@w_linreg\n",
    "pred_train_grad=np.hstack((X_train,np.ones(X_train.shape[0])[:,None]))@np.hstack((w_gradopt,b_gradopt))\n",
    "\n",
    "pred_val_lst=np.hstack((X_val,np.ones(X_val.shape[0])[:,None]))@w_linreg\n",
    "pred_val_grad=np.hstack((X_val,np.ones(X_val.shape[0])[:,None]))@np.hstack((w_gradopt,b_gradopt))"
   ]
  },
  {
   "cell_type": "code",
   "execution_count": 34,
   "id": "ada57721",
   "metadata": {},
   "outputs": [],
   "source": [
    "def rmse(predictions, targets):\n",
    "    return np.sqrt(((predictions - targets) ** 2).mean())"
   ]
  },
  {
   "cell_type": "code",
   "execution_count": 11,
   "id": "daf71a91",
   "metadata": {},
   "outputs": [
    {
     "name": "stdout",
     "output_type": "stream",
     "text": [
      "0.3567565397204054 0.35675563654706866\n"
     ]
    }
   ],
   "source": [
    "print(rmse(pred_train_lst,y_train[:,None]),rmse(pred_train_grad[:,None],y_train[:,None]))"
   ]
  },
  {
   "cell_type": "code",
   "execution_count": 12,
   "id": "5d23cf3c",
   "metadata": {},
   "outputs": [
    {
     "name": "stdout",
     "output_type": "stream",
     "text": [
      "0.4230521968394692 0.4230558675897738\n"
     ]
    }
   ],
   "source": [
    "print(rmse(pred_val_lst,y_val[:,None]),rmse(pred_val_grad[:,None],y_val[:,None]))"
   ]
  },
  {
   "cell_type": "markdown",
   "id": "f6cfd086",
   "metadata": {},
   "source": [
    "### Question3\n",
    "- Cross validation"
   ]
  },
  {
   "cell_type": "code",
   "execution_count": 35,
   "id": "397d2203",
   "metadata": {},
   "outputs": [
    {
     "name": "stdout",
     "output_type": "stream",
     "text": [
      "0.15441177075471604 0.25424891324609983\n"
     ]
    }
   ],
   "source": [
    "K = 20 \n",
    "mx = np.max(y_train); mn = np.min(y_train); hh = (mx-mn)/(K+1)\n",
    "thresholds = np.linspace(mn+hh, mx-hh, num=K, endpoint=True)\n",
    "\n",
    "alpha=30\n",
    "D= X_train.shape[1]\n",
    "pred_train_logi=np.zeros((X_train.shape[0],K))\n",
    "pred_val_logi=np.zeros((X_val.shape[0],K))\n",
    "ww_q3_h=np.zeros((D,K))\n",
    "bb_q3_h=np.zeros(K)\n",
    "for kk in range(K):\n",
    "    labels = y_train > thresholds[kk]\n",
    "    args = (X_train, labels, alpha)    \n",
    "    init= (np.zeros(D), np.array(0))\n",
    "    ww, bb = minimize_list(logreg_cost, init, args)\n",
    "    ww_q3_h[:,kk]=ww\n",
    "    bb_q3_h[kk]=bb\n",
    "    pred_train_logi[:,kk]=1/(1 + np.exp(-np.dot(X_train, ww) -bb))\n",
    "    pred_val_logi[:,kk]=1/(1 + np.exp(-np.dot(X_val, ww) -bb))\n",
    "\n",
    "w_linreg_q3=fit_linreg(pred_train_logi, y_train, alpha=30)\n",
    "w_gradopt_q3,b_gradopt_q3=fit_linreg_gradopt(pred_train_logi, y_train, alpha=30)\n",
    "\n",
    "pred_train_gradopt_q3=np.hstack((pred_train_logi,np.ones(pred_train_logi.shape[0])[:,None]))@np.hstack((w_gradopt_q3,b_gradopt_q3))\n",
    "pred_val_gradopt_q3=np.hstack((pred_val_logi,np.ones(pred_val_logi.shape[0])[:,None]))@np.hstack((w_gradopt_q3,b_gradopt_q3))\n",
    "\n",
    "print(rmse(pred_train_gradopt_q3[:,None],y_train[:,None]),rmse(pred_val_gradopt_q3[:,None],y_val[:,None]))"
   ]
  },
  {
   "cell_type": "code",
   "execution_count": 15,
   "id": "926eefed",
   "metadata": {},
   "outputs": [
    {
     "name": "stdout",
     "output_type": "stream",
     "text": [
      "0.15441150430070244 0.15441177075471604\n"
     ]
    }
   ],
   "source": [
    "print(rmse(pred_train_lst_q3,y_train[:,None]),rmse(pred_train_gradopt_q3[:,None],y_train[:,None]))"
   ]
  },
  {
   "cell_type": "code",
   "execution_count": 16,
   "id": "0e3ff2d5",
   "metadata": {},
   "outputs": [
    {
     "name": "stdout",
     "output_type": "stream",
     "text": [
      "0.2542477297981976 0.25424891324609983\n"
     ]
    }
   ],
   "source": [
    "print(rmse(pred_val_lst_q3,y_val[:,None]),rmse(pred_val_gradopt_q3[:,None],y_val[:,None]))"
   ]
  },
  {
   "cell_type": "markdown",
   "id": "85d2d61d",
   "metadata": {},
   "source": [
    "### Question4\n",
    "- Neural network"
   ]
  },
  {
   "cell_type": "code",
   "execution_count": 55,
   "id": "86492992",
   "metadata": {},
   "outputs": [
    {
     "name": "stdout",
     "output_type": "stream",
     "text": [
      "0.1411982558279669 0.2747922268495088\n",
      "0.1396777862846726 0.2674357583329988\n"
     ]
    }
   ],
   "source": [
    "D = X_train.shape[1]\n",
    "alpha=30\n",
    "args = (X_train, y_train, alpha)\n",
    "\n",
    "# a sensible random initialisation of weight\n",
    "ww4=0.1*np.random.randn(K)/np.sqrt(K) #(20,)\n",
    "bb4=0.1*np.random.randn()/np.sqrt(K)\n",
    "V4=0.1*np.random.randn(K,D)/np.sqrt(K) #(20,373)\n",
    "bk4=0.1*np.random.randn(K)/np.sqrt(K) #(20,)\n",
    "\n",
    "init_sensible =(ww4,bb4,V4,bk4)\n",
    "para_fit_sensible= minimize_list(nn_cost, init_sensible,args)\n",
    "\n",
    "pred_train_gradopt_sensible=nn_cost(para_fit_sensible, X_train)\n",
    "pred_val_gradopt_sensible=nn_cost(para_fit_sensible, X_val)\n",
    "\n",
    "rmse_train_sensible=rmse(pred_train_gradopt_sensible[:,None],y_train[:,None])\n",
    "rmse_val_sensible=rmse(pred_val_gradopt_sensible[:,None],y_val[:,None])\n",
    "print(rmse_train_sensible,rmse_val_sensible)\n",
    "\n",
    "# initialised by the fitted weight in q3\n",
    "init_from_q3 = (w_gradopt_q3,b_gradopt_q3,ww_q3_h.T,bb_q3_h)\n",
    "para_fit_from_q3= minimize_list(nn_cost, init_from_q3, args)\n",
    "\n",
    "pred_train_q4_from_q3=nn_cost(para_fit_from_q3, X_train)\n",
    "pred_val_q4_from_q3=nn_cost(para_fit_from_q3, X_val)\n",
    "rmse_train_from_q3=rmse(pred_train_q4_from_q3[:,None],y_train[:,None])\n",
    "rmse_val_from_q3=rmse(pred_val_q4_from_q3[:,None],y_val[:,None])\n",
    "\n",
    "print(rmse_train_from_q3,rmse_val_from_q3)"
   ]
  },
  {
   "cell_type": "code",
   "execution_count": 37,
   "id": "c26e8377",
   "metadata": {},
   "outputs": [
    {
     "name": "stdout",
     "output_type": "stream",
     "text": [
      "0.1396777862846726 0.2674357583329988\n"
     ]
    }
   ],
   "source": [
    "# initialised by the fitted weight in q3\n",
    "init_from_q3 = (w_gradopt_q3,b_gradopt_q3,ww_q3_h.T,bb_q3_h)\n",
    "para_fit_from_q3= minimize_list(nn_cost, init_from_q3, args)\n",
    "\n",
    "pred_train_q4_from_q3=nn_cost(para_fit_from_q3, X_train)\n",
    "pred_val_q4_from_q3=nn_cost(para_fit_from_q3, X_val)\n",
    "rmse_train_from_q3=rmse(pred_train_q4_from_q3[:,None],y_train[:,None])\n",
    "rmse_val_from_q3=rmse(pred_val_q4_from_q3[:,None],y_val[:,None])\n",
    "\n",
    "print(rmse_train_from_q3,rmse_val_from_q3)"
   ]
  },
  {
   "cell_type": "code",
   "execution_count": 177,
   "id": "18dd1174",
   "metadata": {},
   "outputs": [
    {
     "name": "stdout",
     "output_type": "stream",
     "text": [
      "optimal alpha: 5.26\n",
      "validation RMSE: 0.2458645527230757\n",
      "test RMSE: 0.2894986905790171\n"
     ]
    }
   ],
   "source": [
    "def train_nn_reg(alpha):\n",
    "    D = X_train.shape[1]\n",
    "    ww=0.1*np.random.randn(K)/np.sqrt(K)\n",
    "    bb=0.1*np.random.randn()/np.sqrt(K)\n",
    "    V=0.1*np.random.randn(K,D)/np.sqrt(K)\n",
    "    bk=0.1*np.random.randn(K)/np.sqrt(K)\n",
    "    init=(ww,bb,V,bk)\n",
    "    args = (X_train, y_train, alpha)\n",
    "    \n",
    "    para_fit= minimize_list(nn_cost, init, args)\n",
    "    pred_val=nn_cost(para_fit, X_val)\n",
    "    pred_test=nn_cost(para_fit, X_test)\n",
    "    \n",
    "    return [rmse(pred_val[:,None],y_val[:,None]),rmse(pred_test[:,None],y_test[:,None])]\n",
    "\n",
    "from scipy.stats import norm\n",
    "alpha_set=np.arange(0, 50, 0.02)\n",
    "alpha_ind=[500,1000,2000]\n",
    "X_obs=alpha_set[alpha_ind]\n",
    "X_rest=np.delete(alpha_set, alpha_ind)\n",
    "validation_error=[train_nn_reg(x)[0] for x in X_obs]\n",
    "test_error=[train_nn_reg(x)[1] for x in X_obs]\n",
    "\n",
    "def alpha_opt(X_obs,X_rest):\n",
    "    lmse_obs=[np.log(train_nn_reg(a)[0]) for a in X_obs]\n",
    "    y_q5=[np.log(rmse_val_sensible)-lmse for lmse in lmse_obs]\n",
    "    rest_cond_mu, rest_cond_cov=gp_post_par(X_rest, np.array(X_obs), np.array(y_q5))\n",
    "    y_max=np.max(y_q5)\n",
    "    \n",
    "    PI=np.zeros(X_rest.shape[0])\n",
    "    for i in range(X_rest.shape[0]):\n",
    "        PI[i]=norm.cdf((rest_cond_mu[i]-y_max)/np.sqrt(rest_cond_cov[i,i]))\n",
    "\n",
    "    a_opt_ind=int(np.where(PI==np.max(PI))[0])\n",
    "    a_opt=X_rest[a_opt_ind]\n",
    "    \n",
    "    return a_opt_ind,a_opt\n",
    "\n",
    "for i in range(5):\n",
    "    a_opt_ind,a_opt=alpha_opt(X_obs,X_rest)\n",
    "    alpha_ind=np.append(alpha_ind,a_opt_ind)\n",
    "    X_obs=list(alpha_set[alpha_ind])\n",
    "    X_rest=np.delete(alpha_set, alpha_ind)\n",
    "    validation_error+=[train_nn_reg(a_opt)[0]]\n",
    "    test_error+=[train_nn_reg(a_opt)[1]]\n",
    "    \n",
    "\n",
    "# find the optimal alpha and corresponding validation RMSE\n",
    "optimal_index=int(np.where(validation_error==np.min(validation_error))[0])\n",
    "optimal_index=int(np.where(validation_error==np.min(validation_error))[0])\n",
    "print('optimal alpha: {0}\\nvalidation RMSE: {1}\\ntest RMSE: {2}'.format(X_obs[optimal_index],\n",
    "                                                                        validation_error[optimal_index],\n",
    "                                                                       test_error[optimal_index]))"
   ]
  },
  {
   "cell_type": "code",
   "execution_count": 171,
   "id": "134ec20a",
   "metadata": {},
   "outputs": [],
   "source": [
    "Alpha = np.arange(0, 50, 0.02)\n",
    "obs_id = [500, 1000, 2000]\n",
    "obs_lc = Alpha[obs_id]\n",
    "rest_lc = np.delete(Alpha,obs_id)\n",
    "obs_rmse = []\n",
    "obs_y = []\n",
    "bsl = np.log(rmse_val_sensible)\n",
    "for alpha in obs_lc:\n",
    "    rmse_new = train_nn_reg(alpha)[0]\n",
    "    obs_rmse.append(rmse_new)\n",
    "    y = bsl - np.log(rmse_new)\n",
    "    obs_y.append(y)\n",
    "obs_y = np.array(obs_y)\n",
    "gp_post_mu, gp_post_cov = gp_post_par(rest_lc, obs_lc, obs_y, sigma_y=0.01, ell=5.0, sigma_f=0.01)"
   ]
  },
  {
   "cell_type": "code",
   "execution_count": 172,
   "id": "3c70f020",
   "metadata": {},
   "outputs": [
    {
     "name": "stdout",
     "output_type": "stream",
     "text": [
      "[10. 20. 40.]\n",
      "[ 0.07906763  0.02873025 -0.04883634]\n"
     ]
    }
   ],
   "source": [
    "print(obs_lc)\n",
    "print(obs_y)"
   ]
  },
  {
   "cell_type": "code",
   "execution_count": 173,
   "id": "d0bd2d97",
   "metadata": {},
   "outputs": [],
   "source": [
    "from scipy.stats import norm\n",
    "def p_ipv(alpha_id):\n",
    "    gp_post_mean = gp_post_mu[alpha_id]\n",
    "    gp_post_sd = np.sqrt(gp_post_cov[alpha_id][alpha_id])\n",
    "    z = (gp_post_mean - np.max(obs_y))/gp_post_sd\n",
    "    phi = norm.cdf(z)\n",
    "    return phi    "
   ]
  },
  {
   "cell_type": "code",
   "execution_count": 174,
   "id": "8544cb81",
   "metadata": {},
   "outputs": [],
   "source": [
    "for i in range(5):\n",
    "    p_ipv_max = 0\n",
    "    id_alpha_max = 0\n",
    "    for alpha_id in range(len(rest_lc)):\n",
    "        p_ipv_alpha = p_ipv(alpha_id)\n",
    "        if p_ipv_alpha > p_ipv_max:\n",
    "            p_ipv_max = p_ipv_alpha\n",
    "            id_alpha_max = alpha_id\n",
    "            \n",
    "    alpha_new = rest_lc[id_alpha_max]\n",
    "    obs_lc = np.append(obs_lc,alpha_new)\n",
    "    rest_lc = np.delete(rest_lc,id_alpha_max)\n",
    "    rmse_new = train_nn_reg(alpha_new)[0]\n",
    "    obs_rmse.append(rmse_new)\n",
    "    y = bsl - np.log(rmse_new)\n",
    "    obs_y = np.append(obs_y,y)\n",
    "    gp_post_mu, gp_post_cov = gp_post_par(rest_lc, obs_lc, obs_y, sigma_y=0.01, ell=5.0, sigma_f=0.01)"
   ]
  },
  {
   "cell_type": "code",
   "execution_count": 175,
   "id": "1dcec467",
   "metadata": {},
   "outputs": [
    {
     "name": "stdout",
     "output_type": "stream",
     "text": [
      "[10.   20.   40.   11.88  5.5   3.66  3.68  1.3 ]\n",
      "[ 0.07906763  0.02873025 -0.04883634  0.00068048  0.15665171  0.12009522\n",
      "  0.0910576   0.14746173]\n",
      "[0.2539018174028048, 0.26700971074046476, 0.28854516113604883, 0.2746053006634157, 0.23494784624429949, 0.2436956349378917, 0.2508757179812092, 0.23711696460044912]\n"
     ]
    }
   ],
   "source": [
    "print(obs_lc)\n",
    "print(obs_y)\n",
    "print(obs_rmse)"
   ]
  },
  {
   "cell_type": "code",
   "execution_count": 176,
   "id": "290d0338",
   "metadata": {},
   "outputs": [
    {
     "name": "stdout",
     "output_type": "stream",
     "text": [
      "0.15665171473574513\n",
      "5.5\n",
      "0.23494784624429949\n"
     ]
    }
   ],
   "source": [
    "print(np.max(obs_y))\n",
    "print(obs_lc[np.argmax(obs_y)])\n",
    "print(obs_rmse[np.argmax(obs_y)])"
   ]
  },
  {
   "cell_type": "code",
   "execution_count": 65,
   "id": "6155c42b",
   "metadata": {},
   "outputs": [],
   "source": [
    "def nn_cost_dropout(params, X, yy=None, alpha=None):\n",
    "    \"\"\"NN_COST simple neural network cost function and gradients, or predictions\n",
    "\n",
    "           E, params_bar = nn_cost([ww, bb, V, bk], X, yy, alpha)\n",
    "                    pred = nn_cost([ww, bb, V, bk], X)\n",
    "\n",
    "     Cost function E can be minimized with minimize_list\n",
    "\n",
    "     Inputs:\n",
    "             params (ww, bb, V, bk), where:\n",
    "                    --------------------------------\n",
    "                        ww K,  hidden-output weights\n",
    "                        bb     scalar output bias\n",
    "                         V K,D hidden-input weights\n",
    "                        bk K,  hidden biases\n",
    "                    --------------------------------\n",
    "                  X N,D input design matrix\n",
    "                 yy N,  regression targets\n",
    "              alpha     scalar regularization for weights\n",
    "\n",
    "     Outputs:\n",
    "                     E  sum of squares error\n",
    "            params_bar  gradients wrt params, same format as params\n",
    "     OR\n",
    "               pred N,  predictions if only params and X are given as inputs\n",
    "    \"\"\"\n",
    "    # Unpack parameters from list\n",
    "    ww, bb, V, bk = params\n",
    "    inclu_prob=0.9\n",
    "    mask=np.random.binomial(1,inclu_prob,X.shape[1])\n",
    "    X1=mask*X\n",
    "\n",
    "    # Forwards computation of cost\n",
    "    \n",
    "    if yy is None:\n",
    "        A = np.dot(X, V.T) + bk[None,:] # N,K\n",
    "        P = 1 / (1 + np.exp(-A)) # N,K\n",
    "        F = np.dot(P, ww) + bb # N,\n",
    "        # user wants prediction rather than training signal:\n",
    "        return F\n",
    "    \n",
    "    A = np.dot(X1, V.T) + bk[None,:] # N,K\n",
    "    P = 1 / (1 + np.exp(-A)) # N,K\n",
    "    F = np.dot(P, ww) + bb # N,\n",
    "    res = F - yy # N,\n",
    "    E = np.dot(res, res) + alpha*(np.sum(V*V) + np.dot(ww,ww)) # 1x1\n",
    "\n",
    "    # Reverse computation of gradients\n",
    "    F_bar = 2*res # N,\n",
    "    ww_bar = np.dot(P.T, F_bar) + 2*alpha*ww # K,\n",
    "    bb_bar = np.sum(F_bar) # scalar\n",
    "    P_bar = np.dot(F_bar[:,None], ww[None,:]) # N,\n",
    "    A_bar = P_bar * P * (1 - P) # N,\n",
    "    V_bar = np.dot(A_bar.T, X1) + 2*alpha*V # K,    \n",
    "    bk_bar = np.sum(A_bar, 0)\n",
    "    \n",
    "\n",
    "    return E, (ww_bar, bb_bar, V_bar, bk_bar)"
   ]
  },
  {
   "cell_type": "code",
   "execution_count": 68,
   "id": "cb5f67c4",
   "metadata": {},
   "outputs": [
    {
     "name": "stdout",
     "output_type": "stream",
     "text": [
      "0.3924502530728152 0.40238956701862477\n"
     ]
    }
   ],
   "source": [
    "D = X_train.shape[1]\n",
    "alpha=30\n",
    "args = (X_train, y_train, alpha)\n",
    "\n",
    "# a sensible random initialisation of weight\n",
    "ww41=0.1*np.random.randn(K)/np.sqrt(K) #(20,)\n",
    "bb41=0.1*np.random.randn()/np.sqrt(K)\n",
    "V41=0.1*np.random.randn(K,D)/np.sqrt(K) #(20,373)\n",
    "bk41=0.1*np.random.randn(K)/np.sqrt(K) #(20,)\n",
    "\n",
    "\n",
    "init_sensible1 =(ww41,bb41,V41,bk41)\n",
    "para_fit_sensible1= minimize_list(nn_cost_dropout, init_sensible1,args)\n",
    "\n",
    "pred_train_gradopt_sensible1=nn_cost_dropout(para_fit_sensible1, X_train)\n",
    "pred_val_gradopt_sensible1=nn_cost_dropout(para_fit_sensible1, X_val)\n",
    "\n",
    "rmse_train_sensible1=rmse(pred_train_gradopt_sensible1[:,None],y_train[:,None])\n",
    "rmse_val_sensible1=rmse(pred_val_gradopt_sensible1[:,None],y_val[:,None])\n",
    "print(rmse_train_sensible1,rmse_val_sensible1)\n"
   ]
  },
  {
   "cell_type": "code",
   "execution_count": 67,
   "id": "57386b7d",
   "metadata": {},
   "outputs": [
    {
     "name": "stdout",
     "output_type": "stream",
     "text": [
      "0.1547928404390425 0.25542801743051763\n"
     ]
    }
   ],
   "source": [
    "args1 = (X_train, y_train, 30)\n",
    "para_fit_from_q31= minimize_list(nn_cost_dropout, init_from_q3, args1)\n",
    "pred_train_q4_from_q31=nn_cost_dropout(para_fit_from_q31, X_train)\n",
    "pred_val_q4_from_q31=nn_cost_dropout(para_fit_from_q31, X_val)\n",
    "\n",
    "rmse_train_from_q31=rmse(pred_train_q4_from_q31[:,None],y_train[:,None])\n",
    "rmse_val_from_q31=rmse(pred_val_q4_from_q31[:,None],y_val[:,None])\n",
    "\n",
    "print(rmse_train_from_q31,rmse_val_from_q31)"
   ]
  },
  {
   "cell_type": "code",
   "execution_count": 289,
   "id": "c742c4e8",
   "metadata": {
    "scrolled": true
   },
   "outputs": [],
   "source": [
    "def train_nn_reg_K(K,alpha):\n",
    "    D = X_train.shape[1]\n",
    "    \n",
    "    args = (X_train, y_train, alpha)\n",
    "\n",
    "    # a sensible random initialisation of weight\n",
    "    ww=0.1*np.random.randn(K)/np.sqrt(K) #(K,)\n",
    "    bb=0.1*np.random.randn()/np.sqrt(K)\n",
    "    V=0.1*np.random.randn(K,D)/np.sqrt(K) #(K,373)\n",
    "    bk=0.1*np.random.randn(K)/np.sqrt(K) #(K,)\n",
    "\n",
    "\n",
    "    init_sensible =(ww,bb,V,bk)\n",
    "    para_fit_sensible= minimize_list(nn_cost, init_sensible,args)\n",
    "\n",
    "    pred_train_gradopt_sensible=nn_cost(para_fit_sensible, X_train)\n",
    "    pred_val_gradopt_sensible=nn_cost(para_fit_sensible, X_val)\n",
    "    pred_test_gradopt_sensible=nn_cost(para_fit_sensible, X_test)\n",
    "    \n",
    "    rmse_train_sensible=rmse(pred_train_gradopt_sensible[:,None],y_train[:,None])\n",
    "    rmse_val_sensible=rmse(pred_val_gradopt_sensible[:,None],y_val[:,None])\n",
    "    rmse_test_sensible=rmse(pred_test_gradopt_sensible[:,None],y_test[:,None])\n",
    "    \n",
    "    return(rmse_train_sensible,rmse_val_sensible,rmse_test_sensible)\n",
    "\n",
    "\n",
    "\n",
    "\n",
    "K=np.arange(10, 25, 1)\n",
    "error=np.zeros((K.shape[0],3))\n",
    "for i,k in enumerate(K):\n",
    "    error[i,0],error[i,1],error[i,2]=train_nn_reg_K(k,5.26)"
   ]
  },
  {
   "cell_type": "code",
   "execution_count": 292,
   "id": "392d3832",
   "metadata": {},
   "outputs": [
    {
     "data": {
      "image/png": "[encoded data removed]",
      "text/plain": [
       "<Figure size 432x288 with 1 Axes>"
      ]
     },
     "metadata": {
      "needs_background": "light"
     },
     "output_type": "display_data"
    }
   ],
   "source": [
    "import matplotlib.pyplot as plt\n",
    "baseline_ind=int(np.where(K==20)[0])\n",
    "\n",
    "plt.plot(K,error[:,0],label='training RMSE')\n",
    "plt.plot(K,error[:,1],label='validation RMSE')\n",
    "plt.plot(np.linspace(np.min(K),np.max(K),2),np.ones(2)*error[baseline_ind,0],label='training RMSE of baseline' )\n",
    "plt.plot(np.linspace(np.min(K),np.max(K),2),np.ones(2)*error[baseline_ind,1],label='validation RMSE of baseline')\n",
    "plt.xlabel('K')\n",
    "plt.ylabel('RMSE')\n",
    "plt.title('RMSE vs K')\n",
    "plt.legend()\n",
    "plt.show()"
   ]
  },
  {
   "cell_type": "code",
   "execution_count": 196,
   "id": "04064aec",
   "metadata": {},
   "outputs": [
    {
     "data": {
      "text/plain": [
       "0.34139302588574966"
      ]
     },
     "execution_count": 196,
     "metadata": {},
     "output_type": "execute_result"
    }
   ],
   "source": [
    "np.mean(X_train)\n",
    "np.std(X_train)"
   ]
  },
  {
   "cell_type": "markdown",
   "id": "aab7ab94",
   "metadata": {},
   "source": [
    "### Question5\n",
    "- Model improvement"
   ]
  },
  {
   "cell_type": "code",
   "execution_count": 332,
   "id": "570be00b",
   "metadata": {},
   "outputs": [],
   "source": [
    "def Normalization_data(data):\n",
    "    for i in range(data.shape[0]):        \n",
    "        data[i,:]=(data[i,:]-np.min(data[i,:]))/(np.max(data[i,:])-np.min(data[i,:]))\n",
    "    return data\n",
    "\n",
    "X_train1=Normalization_data(X_train)\n",
    "X_val1=Normalization_data(X_val)\n",
    "\n",
    "def train_nn_reg1(alpha,K,xtrain,xval,ytrain,yval):\n",
    "    D = xtrain.shape[1]\n",
    "    ww=0.1*np.random.randn(K)/np.sqrt(K)\n",
    "    bb=0.1*np.random.randn()/np.sqrt(K)\n",
    "    V=0.1*np.random.randn(K,D)/np.sqrt(K)\n",
    "    bk=0.1*np.random.randn(K)/np.sqrt(K)\n",
    "    init=(ww,bb,V,bk)\n",
    "    args = (xtrain, ytrain, alpha)\n",
    "    para_fit= minimize_list(nn_cost, init, args)\n",
    "    pred_train=nn_cost(para_fit,xtrain)\n",
    "    pred_val=nn_cost(para_fit, xval)\n",
    "    return [rmse(pred_train[:,None],ytrain[:,None]),rmse(pred_val[:,None],yval[:,None])]"
   ]
  },
  {
   "cell_type": "code",
   "execution_count": 334,
   "id": "786d1d0e",
   "metadata": {},
   "outputs": [
    {
     "data": {
      "text/plain": [
       "(373, 373)"
      ]
     },
     "execution_count": 334,
     "metadata": {},
     "output_type": "execute_result"
    }
   ],
   "source": [
    "X_train.shape[1],X_val.shape[1]"
   ]
  },
  {
   "cell_type": "code",
   "execution_count": 335,
   "id": "d057c772",
   "metadata": {},
   "outputs": [],
   "source": [
    "X_train1=np.zeros((X_train.shape))\n",
    "X_val1=np.zeros((X_val.shape))\n",
    "for i in range(X_train.shape[1]):        \n",
    "    X_train1[:,i]=(X_train[:,i]-np.min(X_train[:,i]))/(np.max(X_train[:,i])-np.min(X_train[:,i]))\n",
    "    #X_val1[:,i]=(X_val1[:,i]-np.min(X_train[:,i]))/(np.max(X_train[:,i])-np.min(X_train[:,i]))\n",
    "    X_val1[:,i]=(X_val1[:,i]-np.min(X_train[:,i]))/(np.max(X_train[:,i])-np.min(X_train[:,i]))"
   ]
  },
  {
   "cell_type": "code",
   "execution_count": 389,
   "id": "8709d266",
   "metadata": {},
   "outputs": [],
   "source": [
    "X_train1=(X_train-np.mean(X_train,axis=0))/np.std(X_train,axis=0)\n",
    "X_val1=(X_val-np.mean(X_train,axis=0))/np.std(X_train,axis=0)\n",
    "rmse_q6=[None]*10\n",
    "for i in range(10):\n",
    "    rmse_q6[i]=train_nn_reg1(alpha=5.26,K=20,xtrain=X_train1,xval=X_val1,y_train=y_train)"
   ]
  },
  {
   "cell_type": "code",
   "execution_count": 391,
   "id": "842675f5",
   "metadata": {},
   "outputs": [
    {
     "data": {
      "text/plain": [
       "[[0.04671449437028345, 0.25694686173212483],\n",
       " [0.04663000688662072, 0.254195603903346],\n",
       " [0.04622616691922857, 0.22777664527073258],\n",
       " [0.046132999950808946, 0.2421681500260043],\n",
       " [0.046380252622138664, 0.24884384738916718],\n",
       " [0.04854355380320544, 0.25172635953305506],\n",
       " [0.04815784934469329, 0.24448185263683483],\n",
       " [0.04662090430421377, 0.25373012897371844],\n",
       " [0.049947770083964185, 0.2403880454879269],\n",
       " [0.0476000474567066, 0.25165950052956587]]"
      ]
     },
     "execution_count": 391,
     "metadata": {},
     "output_type": "execute_result"
    }
   ],
   "source": [
    "rmse_q6"
   ]
  },
  {
   "cell_type": "code",
   "execution_count": 396,
   "id": "bef7c226",
   "metadata": {},
   "outputs": [],
   "source": [
    "X_train1=(X_train-np.mean(X_train,axis=0))/np.std(X_train,axis=0)\n",
    "X_val1=(X_val-np.mean(X_train,axis=0))/np.std(X_train,axis=0)\n",
    "rmse_q6_alpha30=[None]*10\n",
    "for i in range(10):\n",
    "    rmse_q6_alpha30[i]=train_nn_reg1(alpha=30,K=20,xtrain=X_train1,xval=X_val1,y_train=y_train)"
   ]
  },
  {
   "cell_type": "code",
   "execution_count": 397,
   "id": "943228e4",
   "metadata": {
    "scrolled": true
   },
   "outputs": [
    {
     "data": {
      "text/plain": [
       "[[0.0786865671457154, 0.24894906511115186],\n",
       " [0.07623406063068447, 0.2288295752826641],\n",
       " [0.0747300221739672, 0.24186156722955204],\n",
       " [0.07634340603858514, 0.23032988532027424],\n",
       " [0.07867952254695026, 0.23767555573789903],\n",
       " [0.0765909574641889, 0.23703921167629122],\n",
       " [0.07505294527178667, 0.2366808954232176],\n",
       " [0.07881010469278509, 0.2347180341634777],\n",
       " [0.07586248283291565, 0.2237525842031976],\n",
       " [0.07733038969357928, 0.23504194465713793]]"
      ]
     },
     "execution_count": 397,
     "metadata": {},
     "output_type": "execute_result"
    }
   ],
   "source": [
    "rmse_q6_alpha30"
   ]
  },
  {
   "cell_type": "code",
   "execution_count": 412,
   "id": "a806ab3a",
   "metadata": {},
   "outputs": [
    {
     "name": "stdout",
     "output_type": "stream",
     "text": [
      "[0.07585786662030743, 0.23347711261242346]\n"
     ]
    }
   ],
   "source": [
    "def train_nn_reg1(alpha,K,xtrain,xval):\n",
    "    D = xtrain.shape[1]\n",
    "    ww=0.1*np.random.randn(K)/np.sqrt(K)\n",
    "    bb=0.1*np.random.randn()/np.sqrt(K)\n",
    "    V=0.1*np.random.randn(K,D)/np.sqrt(K)\n",
    "    bk=0.1*np.random.randn(K)/np.sqrt(K)\n",
    "    init=(ww,bb,V,bk)\n",
    "    args = (xtrain, y_train, alpha)\n",
    "    para_fit= minimize_list(nn_cost, init, args)\n",
    "    pred_train=nn_cost(para_fit,xtrain)\n",
    "    pred_val=nn_cost(para_fit, xval)\n",
    "   \n",
    "    return [rmse(pred_train[:,None],y_train[:,None]),rmse(pred_val[:,None],y_val[:,None])]\n",
    "\n",
    "X_train1=(X_train-np.mean(X_train,axis=0))/np.std(X_train,axis=0)\n",
    "X_val1=(X_val-np.mean(X_train,axis=0))/np.std(X_train,axis=0)\n",
    "X_test1=(X_test-np.mean(X_train,axis=0))/np.std(X_train,axis=0)\n",
    "print(train_nn_reg1(alpha=30,K=20,xtrain=X_train1,xval=X_val1))"
   ]
  },
  {
   "cell_type": "code",
   "execution_count": 401,
   "id": "420377aa",
   "metadata": {},
   "outputs": [],
   "source": [
    "def train_nn_reg2(alpha):\n",
    "    K=20\n",
    "    D = X_train1.shape[1]\n",
    "    ww=0.1*np.random.randn(K)/np.sqrt(K)\n",
    "    bb=0.1*np.random.randn()/np.sqrt(K)\n",
    "    V=0.1*np.random.randn(K,D)/np.sqrt(K)\n",
    "    bk=0.1*np.random.randn(K)/np.sqrt(K)\n",
    "    init=(ww,bb,V,bk)\n",
    "    args = (X_train1, y_train, alpha)\n",
    "    \n",
    "    para_fit= minimize_list(nn_cost, init, args)\n",
    "    pred_val=nn_cost(para_fit, X_val1)\n",
    "    pred_test=nn_cost(para_fit, X_test1)\n",
    "    \n",
    "    return [rmse(pred_val[:,None],y_val[:,None]),rmse(pred_test[:,None],y_test[:,None])]\n",
    "\n",
    "from scipy.stats import norm\n",
    "alpha_set=np.arange(0, 50, 0.02)\n",
    "alpha_ind=[500,1000,2000]\n",
    "X_obs=alpha_set[alpha_ind]\n",
    "X_rest=np.delete(alpha_set, alpha_ind)\n",
    "validation_error=[train_nn_reg2(x)[0] for x in X_obs]\n",
    "test_error=[train_nn_reg2(x)[1] for x in X_obs]\n",
    "\n",
    "def alpha_opt(X_obs,X_rest):\n",
    "    lmse_obs=[np.log(train_nn_reg2(a)[0]) for a in X_obs]\n",
    "    y_q5=[np.log(rmse_val_sensible)-lmse for lmse in lmse_obs]\n",
    "    rest_cond_mu, rest_cond_cov=gp_post_par(X_rest, np.array(X_obs), np.array(y_q5))\n",
    "    y_max=np.max(y_q5)\n",
    "    \n",
    "    PI=np.zeros(X_rest.shape[0])\n",
    "    for i in range(X_rest.shape[0]):\n",
    "        PI[i]=norm.cdf((rest_cond_mu[i]-y_max)/np.sqrt(rest_cond_cov[i,i]))\n",
    "\n",
    "    a_opt_ind=int(np.where(PI==np.max(PI))[0])\n",
    "    a_opt=X_rest[a_opt_ind]\n",
    "    \n",
    "    return a_opt_ind,a_opt\n",
    "\n",
    "for i in range(5):\n",
    "    a_opt_ind,a_opt=alpha_opt(X_obs,X_rest)\n",
    "    alpha_ind=np.append(alpha_ind,a_opt_ind)\n",
    "    X_obs=list(alpha_set[alpha_ind])\n",
    "    X_rest=np.delete(alpha_set, alpha_ind)\n",
    "    validation_error+=[train_nn_reg2(a_opt)[0]]\n",
    "    test_error+=[train_nn_reg2(a_opt)[1]]\n",
    "    \n",
    "\n",
    "# find the optimal alpha and corresponding validation RMSE\n",
    "optimal_index=int(np.where(validation_error==np.min(validation_error))[0])\n",
    "optimal_index=int(np.where(validation_error==np.min(validation_error))[0])\n",
    "print('optimal alpha: {0}\\nvalidation RMSE: {1}\\ntest RMSE: {2}'.format(X_obs[optimal_index],\n",
    "                                                                        validation_error[optimal_index],\n",
    "                                                                       test_error[optimal_index]))"
   ]
  },
  {
   "cell_type": "code",
   "execution_count": 402,
   "id": "7356cde9",
   "metadata": {},
   "outputs": [
    {
     "name": "stdout",
     "output_type": "stream",
     "text": [
      "optimal alpha: 13.56\n",
      "validation RMSE: 0.22584492846350543\n",
      "test RMSE: 0.26916665509975735\n"
     ]
    }
   ],
   "source": [
    "for i in range(5):\n",
    "    a_opt_ind,a_opt=alpha_opt(X_obs,X_rest)\n",
    "    alpha_ind=np.append(alpha_ind,a_opt_ind)\n",
    "    X_obs=list(alpha_set[alpha_ind])\n",
    "    X_rest=np.delete(alpha_set, alpha_ind)\n",
    "    validation_error+=[train_nn_reg2(a_opt)[0]]\n",
    "    test_error+=[train_nn_reg2(a_opt)[1]]\n",
    "    \n",
    "\n",
    "# find the optimal alpha and corresponding validation RMSE\n",
    "optimal_index=int(np.where(validation_error==np.min(validation_error))[0])\n",
    "optimal_index=int(np.where(validation_error==np.min(validation_error))[0])\n",
    "print('optimal alpha: {0}\\nvalidation RMSE: {1}\\ntest RMSE: {2}'.format(X_obs[optimal_index],\n",
    "                                                                        validation_error[optimal_index],\n",
    "                                                                       test_error[optimal_index]))"
   ]
  },
  {
   "cell_type": "code",
   "execution_count": 403,
   "id": "ce3ffc3c",
   "metadata": {},
   "outputs": [
    {
     "data": {
      "text/plain": [
       "[0.06319133951755751, 0.24529008209952305]"
      ]
     },
     "execution_count": 403,
     "metadata": {},
     "output_type": "execute_result"
    }
   ],
   "source": [
    "train_nn_reg1(alpha=13.56,K=25,xtrain=X_train1,xval=X_val1,y_train=y_train)"
   ]
  },
  {
   "cell_type": "code",
   "execution_count": 405,
   "id": "b1d3c50b",
   "metadata": {},
   "outputs": [
    {
     "data": {
      "text/plain": [
       "-1.8679386519531087"
      ]
     },
     "execution_count": 405,
     "metadata": {},
     "output_type": "execute_result"
    }
   ],
   "source": [
    "np.min(y_train)"
   ]
  },
  {
   "cell_type": "code",
   "execution_count": null,
   "id": "c6a3ce3f",
   "metadata": {},
   "outputs": [],
   "source": [
    "a_opt_ind=int(np.where(PI==np.max(PI))[0])\n",
    "a_opt=X_rest[a_opt_ind]"
   ]
  },
  {
   "cell_type": "code",
   "execution_count": 355,
   "id": "95e3aac4",
   "metadata": {},
   "outputs": [
    {
     "data": {
      "text/plain": [
       "(5785, 373)"
      ]
     },
     "execution_count": 355,
     "metadata": {},
     "output_type": "execute_result"
    }
   ],
   "source": [
    "X_val.shape"
   ]
  },
  {
   "cell_type": "code",
   "execution_count": 324,
   "id": "cc814591",
   "metadata": {},
   "outputs": [
    {
     "data": {
      "text/plain": [
       "array([nan, nan, nan, ..., nan, nan, nan])"
      ]
     },
     "execution_count": 324,
     "metadata": {},
     "output_type": "execute_result"
    }
   ],
   "source": [
    "nn_cost(para_fit, X_val1)"
   ]
  }
 ],
 "metadata": {
  "kernelspec": {
   "display_name": "Python 3 (ipykernel)",
   "language": "python",
   "name": "python3"
  },
  "language_info": {
   "codemirror_mode": {
    "name": "ipython",
    "version": 3
   },
   "file_extension": ".py",
   "mimetype": "text/x-python",
   "name": "python",
   "nbconvert_exporter": "python",
   "pygments_lexer": "ipython3",
   "version": "3.9.7"
  }
 },
 "nbformat": 4,
 "nbformat_minor": 5
}
