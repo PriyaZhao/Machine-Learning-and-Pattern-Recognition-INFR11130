{
 "cells": [
  {
   "cell_type": "markdown",
   "id": "9969f6d4",
   "metadata": {},
   "source": [
    "### Question1_a\n",
    "- Visiualize the data"
   ]
  },
  {
   "cell_type": "code",
   "execution_count": null,
   "id": "aa5eeeec",
   "metadata": {},
   "outputs": [],
   "source": [
    "import numpy as np\n",
    "import matplotlib.pyplot as plt\n",
    "amp_data = np.load('amp_data.npz')['amp_data']\n",
    "plt.figure(figsize=(18, 10))\n",
    "plt.subplot(2, 1, 1)\n",
    "plt.plot(amp_data)\n",
    "plt.title('Line graph')\n",
    "plt.ylabel('Value of amp_data')\n",
    "plt.xlabel('Index')\n",
    "plt.subplot(2, 1, 2)\n",
    "plt.hist(amp_data,bins=100)\n",
    "plt.title('Histogram')\n",
    "plt.xlabel('amp_data')\n",
    "plt.ylabel('Count')\n",
    "plt.tight_layout()\n",
    "plt.show()"
   ]
  },
  {
   "cell_type": "markdown",
   "id": "f20e8663",
   "metadata": {},
   "source": [
    "### Question1_b\n",
    "- Dataset split"
   ]
  },
  {
   "cell_type": "code",
   "execution_count": null,
   "id": "55614ee4",
   "metadata": {},
   "outputs": [],
   "source": [
    "row=int(np.floor(amp_data.shape[0]/21)) # 33713280=21*1605394+6\n",
    "amp_data_new=amp_data[:row*21].reshape(row,21)\n",
    "np.random.seed(20211011)\n",
    "amp_data_perm=np.random.permutation(amp_data_new)\n",
    "\n",
    "\n",
    "[train,val,test,]=np.vsplit(amp_data_perm,[1123776,1364585,1605394])[:3]\n",
    "X_shuf_train=train[:,:20]\n",
    "y_shuf_train=train[:,20]\n",
    "X_shuf_val=val[:,:20]\n",
    "y_shuf_val=val[:,20]\n",
    "X_shuf_test=test[:,:20]\n",
    "y_shuf_test=test[:,20]"
   ]
  },
  {
   "cell_type": "markdown",
   "id": "a09bd82f",
   "metadata": {},
   "source": [
    "### Question2_a\n",
    "- Line fit and quartic fit"
   ]
  },
  {
   "cell_type": "code",
   "execution_count": null,
   "id": "b0e1c53b",
   "metadata": {},
   "outputs": [],
   "source": [
    "t_x=np.linspace(0,1,21,endpoint=True)[:-1][:,None]\n",
    "t_y=np.linspace(0,1,21,endpoint=True)[-1]\n",
    "\n",
    "def q2_phi (t):\n",
    "    return np.hstack([np.ones(t.shape[0])[:,None],t,t**2,t**3,t**4])\n",
    "\n",
    "def q2_line (t):\n",
    "    return np.hstack([np.ones(t.shape[0])[:,None],t])\n",
    "\n",
    "def q2_plot(i):\n",
    "    # i is the row index of training data matrices\n",
    "    xx=X_shuf_train[i,:][:,None]\n",
    "    yy=y_shuf_train[i]\n",
    "    \n",
    "    # Compute the fitted parameter of line fit and quartic fit\n",
    "    w_q2a_line=np.linalg.lstsq(q2_line(t_x),xx,rcond=None)[0]\n",
    "    w_q2a_quartic=np.linalg.lstsq(q2_phi(t_x),xx,rcond=None)[0]\n",
    "    # Plot the training points and the test point\n",
    "    plt.scatter(t_x,xx,label='Training point')\n",
    "    plt.plot(t_y,yy,'ko',label='Test point')\n",
    "\n",
    "    t_grid=np.linspace(0,1,1000,endpoint=True)[:,None]\n",
    "\n",
    "    plt.plot(t_grid,np.dot(q2_line(t_grid),w_q2a_line),linewidth=2,color='g',label='Line fit')\n",
    "    plt.plot(t_y,np.dot(q2_line(t_grid),w_q2a_line)[-1],marker='o',color='g',label='Predicted point of line fit')\n",
    "    plt.text(t_y,np.dot(q2_line(t_grid),w_q2a_line)[-1],str(np.dot(q2_line(t_grid),w_q2a_line)[-1]),color='g')\n",
    "    \n",
    "    plt.plot(t_grid,np.dot(q2_phi(t_grid),w_q2a_quartic),linewidth=2,color='r',label='Quartic fit')\n",
    "    plt.plot(t_y,np.dot(q2_phi(t_grid),w_q2a_quartic)[-1],marker='o',color='r',label='Predicted point of quartic fit')\n",
    "    plt.text(t_y,np.dot(q2_phi(t_grid),w_q2a_quartic)[-1],str(np.dot(q2_phi(t_grid),w_q2a_quartic)[-1]),color='r')\n",
    "    plt.title('Q2 (a)')\n",
    "    plt.xlabel('Time')\n",
    "    plt.ylabel('Amplitude')\n",
    "    \n",
    "    plt.legend(bbox_to_anchor=(1.15, 1.0), loc='upper left')\n",
    "    plt.show()\n",
    "    \n",
    "q2_plot(0)    "
   ]
  },
  {
   "cell_type": "markdown",
   "id": "c9ad8675",
   "metadata": {},
   "source": [
    "### Question2_c\n",
    "- Line fit and quartic fit"
   ]
  },
  {
   "cell_type": "code",
   "execution_count": null,
   "id": "89e3346f",
   "metadata": {},
   "outputs": [],
   "source": [
    "q2_plot(1)\n",
    "q2_plot(-1)"
   ]
  },
  {
   "cell_type": "markdown",
   "id": "256c4649",
   "metadata": {},
   "source": [
    "### Question3_b\n",
    "- Prediction"
   ]
  },
  {
   "cell_type": "code",
   "execution_count": null,
   "id": "b1ad0bad",
   "metadata": {},
   "outputs": [],
   "source": [
    "def Phi(C,K):\n",
    "    t_q3_train=np.linspace(0,1,21)[:-1] \n",
    "    t=t_q3_train[(20-C):][:,None]\n",
    "    phi=np.ones(C)[:,None]\n",
    "    for i in range(1,K):\n",
    "        phi=np.hstack([phi,t**i])\n",
    "    return phi\n",
    "\n",
    "def make_vv(C, K):\n",
    "    phi_phi=np.linalg.inv(np.dot(Phi(C,K).T,Phi(C,K)))\n",
    "    phi_t1=np.ones(1)[:,None]\n",
    "    t=np.array([1])[:,None] #t=1\n",
    "    for i in range(1,K):\n",
    "        phi_t1=np.vstack([phi_t1,t**i])\n",
    "    return np.dot(Phi(C,K),phi_phi).dot(phi_t1) # return a Cx1 vector\n",
    "\n",
    "print('Predictions at t=1 in Q3:\\n Linear:{0:f} \\n Quartic:{1:f}'\n",
    "      .format(float(np.dot(make_vv(20,2).T,X_shuf_train[0,:][:,None]))\n",
    "              ,float(np.dot(make_vv(20,5).T,X_shuf_train[0,:][:,None]))))"
   ]
  },
  {
   "cell_type": "markdown",
   "id": "09f5abb5",
   "metadata": {},
   "source": [
    "### Question3_c\n",
    "- Cross Validation"
   ]
  },
  {
   "cell_type": "code",
   "execution_count": null,
   "id": "29eaea1f",
   "metadata": {},
   "outputs": [],
   "source": [
    "cmax=20;kmax=6;\n",
    "se_train=np.zeros((cmax,kmax))\n",
    "for c in range(cmax):\n",
    "    for k in range(kmax):\n",
    "        pred=make_vv(c+1,k+1).T@X_shuf_train[:,(19-c):].T\n",
    "        se_train[c,k]=np.sum((y_shuf_train-pred)**2)\n",
    "        \n",
    "min_index=np.asarray(np.where(se_train==np.min(se_train))) \n",
    "print('C=%i,K=%i'%(int(min_index[0])+1,int(min_index[1])+1))\n",
    "\n",
    "# prediction of validation set\n",
    "pred_val=np.dot(make_vv(2,2).T,X_shuf_val[:,18:].T)\n",
    "# mse on the validation set\n",
    "mse_val=((y_shuf_val-pred_val)**2).sum()/X_shuf_val.shape[0]\n",
    "\n",
    "# prediction of test set\n",
    "pred_test=np.dot(make_vv(2,2).T,X_shuf_test[:,18:].T)\n",
    "# mse on the test set\n",
    "mse_test=((y_shuf_test-pred_test)**2).sum()/X_shuf_test.shape[0]\n",
    "print('MSE:\\nTraining set:%.4e \\nValidation set:%.4e \\nTest set:%.4e'\n",
    "      %(np.min(se_train)/X_shuf_train.shape[0],mse_val,mse_test))"
   ]
  },
  {
   "cell_type": "markdown",
   "id": "95a05d59",
   "metadata": {},
   "source": [
    "### Question4_a\n",
    "- Cross Validation"
   ]
  },
  {
   "cell_type": "code",
   "execution_count": null,
   "id": "8370a9b8",
   "metadata": {},
   "outputs": [],
   "source": [
    "cmax=20;\n",
    "mse_train_q4=np.zeros(cmax)\n",
    "mse_val_q4=np.zeros(cmax)\n",
    "for c in range(cmax):\n",
    "    v_train_fit=np.linalg.lstsq(X_shuf_train[:,(19-c):],y_shuf_train,rcond=None)[0]\n",
    "    \n",
    "    pred_train_q4=np.dot(X_shuf_train[:,(19-c):],v_train_fit)\n",
    "    pred_val_q4=np.dot(X_shuf_val[:,(19-c):],v_train_fit)\n",
    "    \n",
    "    mse_train_q4[c]=np.mean((y_shuf_train-pred_train_q4)**2)\n",
    "    mse_val_q4[c]=np.mean((y_shuf_val-pred_val_q4)**2)\n",
    "    \n",
    "index_c_tra=np.where(mse_train_q4==np.min(mse_train_q4))[0].item()\n",
    "index_c_val=np.where(mse_val_q4==np.min(mse_val_q4))[0].item()\n",
    "print('Training set:\\nMSE={0:.3e} \\t C={1:2d}'.format(np.min(mse_train_q4),index_c_tra+1)) \n",
    "print('Validation set:\\nMSE={0:.3e} \\t C={1:2d}'.format(np.min(mse_val_q4),index_c_val+1)) "
   ]
  },
  {
   "cell_type": "markdown",
   "id": "9a92a1a6",
   "metadata": {},
   "source": [
    "### Question4_b\n",
    "- Results"
   ]
  },
  {
   "cell_type": "code",
   "execution_count": null,
   "id": "4ab549c5",
   "metadata": {},
   "outputs": [],
   "source": [
    "v_train_fit_q4b=np.linalg.lstsq(X_shuf_train[:,2:],y_shuf_train,rcond=None)[0]\n",
    "pred_test_q4=np.dot(X_shuf_test[:,2:],v_train_fit_q4b)\n",
    "mse_test_q4=np.mean((y_shuf_test-pred_test_q4)**2)\n",
    "print('MSE in q4: {0:2e}\\nMSE in q3: {1:2e}'.format(mse_test_q4,mse_test))\n",
    "\n",
    "pred_q4c=np.dot(X_shuf_val[:,:20],np.linalg.lstsq(X_shuf_val[:,:20],y_shuf_val,rcond=None)[0])\n",
    "res=y_shuf_val-pred_q4c\n",
    "plt.hist(res,bins=100)\n",
    "plt.title('Residuals on the validation data')\n",
    "plt.xlabel('Residuals')\n",
    "plt.ylabel('Count')\n",
    "plt.show()"
   ]
  }
 ],
 "metadata": {
  "kernelspec": {
   "display_name": "Python 3 (ipykernel)",
   "language": "python",
   "name": "python3"
  },
  "language_info": {
   "codemirror_mode": {
    "name": "ipython",
    "version": 3
   },
   "file_extension": ".py",
   "mimetype": "text/x-python",
   "name": "python",
   "nbconvert_exporter": "python",
   "pygments_lexer": "ipython3",
   "version": "3.9.7"
  }
 },
 "nbformat": 4,
 "nbformat_minor": 5
}
